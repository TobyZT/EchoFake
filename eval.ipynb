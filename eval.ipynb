{
 "cells": [
  {
   "cell_type": "code",
   "execution_count": null,
   "id": "7db6d80e",
   "metadata": {},
   "outputs": [],
   "source": [
    "import lightning as L\n",
    "import torch\n",
    "import torch.nn as nn\n",
    "import torch.nn.functional as F\n",
    "\n",
    "from pathlib import Path\n",
    "from lightning.pytorch import loggers as pl_loggers\n",
    "from lightning.pytorch.callbacks import ModelCheckpoint\n",
    "import json\n",
    "import os\n",
    "\n",
    "from train import RawNet2Trainer, AASISTTrainer, W2VTrainer\n",
    "from data import EchoFakeModule, ASVspoof2019, IntheWild, ASVspoofEval, WaveFake"
   ]
  },
  {
   "cell_type": "code",
   "execution_count": 2,
   "id": "0ffa7f11",
   "metadata": {},
   "outputs": [],
   "source": [
    "import glob\n",
    "\n",
    "sampled_asvspoof = glob.glob(\n",
    "    \"/data1/zt/ReplayDeepfake/archives/sampled_asvspoof/*.flac\"\n",
    ")\n",
    "recorded_asvspoof = glob.glob(\n",
    "    \"/data1/zt/ReplayDeepfake/archives/asvspoof_recorded/*.flac\"\n",
    ")\n",
    "\n",
    "metadata = \"/data1/datasets/ASVspoof2019/LA/ASVspoof2019_LA_cm_protocols/ASVspoof2019.LA.cm.eval.trl.txt\"\n",
    "label_dict = {}\n",
    "with open(metadata, \"r\") as f:\n",
    "    lines = f.readlines()\n",
    "    for line in lines:\n",
    "        _, utt_id, _, _, label = line.split()\n",
    "        label_dict[utt_id] = 0 if label == \"spoof\" else 1"
   ]
  },
  {
   "cell_type": "code",
   "execution_count": 7,
   "id": "b8b4ce82",
   "metadata": {},
   "outputs": [
    {
     "name": "stderr",
     "output_type": "stream",
     "text": [
      "/tmp/ipykernel_107650/2511601282.py:23: FutureWarning: You are using `torch.load` with `weights_only=False` (the current default value), which uses the default pickle module implicitly. It is possible to construct malicious pickle data which will execute arbitrary code during unpickling (See https://github.com/pytorch/pytorch/blob/main/SECURITY.md#untrusted-models for more details). In a future release, the default value for `weights_only` will be flipped to `True`. This limits the functions that could be executed during unpickling. Arbitrary objects will no longer be allowed to be loaded via this mode unless they are explicitly allowlisted by the user via `torch.serialization.add_safe_globals`. We recommend you start setting `weights_only=True` for any use case where you don't have full control of the loaded file. Please open an issue on GitHub for any issues related to this experimental feature.\n",
      "  states = torch.load(\"models/weights/AASIST.pth\")\n"
     ]
    }
   ],
   "source": [
    "# load model\n",
    "# ckpt = \"exp/W2V-Linear-ASV/version_0/checkpoints/best.ckpt\"\n",
    "# with open(\"configs/w2v.json\") as f:\n",
    "#     config = json.load(f)\n",
    "# model = W2VTrainer.load_from_checkpoint(ckpt, config=config).model\n",
    "# model.eval()\n",
    "# model = model.to(\"cuda\")\n",
    "\n",
    "from models import AASIST\n",
    "\n",
    "model = AASIST(\n",
    "    {\n",
    "        \"architecture\": \"AASIST\",\n",
    "        \"nb_samp\": 64600,\n",
    "        \"first_conv\": 128,\n",
    "        \"filts\": [70, [1, 32], [32, 32], [32, 64], [64, 64]],\n",
    "        \"gat_dims\": [64, 32],\n",
    "        \"pool_ratios\": [0.5, 0.7, 0.5, 0.5],\n",
    "        \"temperatures\": [2.0, 2.0, 100.0, 100.0],\n",
    "    },\n",
    "    num_classes=2,\n",
    ")\n",
    "states = torch.load(\"models/weights/AASIST.pth\")\n",
    "model.load_state_dict(states)\n",
    "model.eval()\n",
    "model = model.to(\"cuda\")"
   ]
  },
  {
   "cell_type": "code",
   "execution_count": 8,
   "id": "7e5b4985",
   "metadata": {},
   "outputs": [
    {
     "name": "stderr",
     "output_type": "stream",
     "text": [
      "100%|██████████| 1400/1400 [00:07<00:00, 198.76it/s]\n"
     ]
    }
   ],
   "source": [
    "import librosa\n",
    "import numpy as np\n",
    "from tqdm import tqdm\n",
    "\n",
    "\n",
    "def pad(x, max_len=64000):\n",
    "    x_len = x.shape[0]\n",
    "    if x_len >= max_len:\n",
    "        return x[:max_len]\n",
    "    # need to pad\n",
    "    num_repeats = int(max_len / x_len) + 1\n",
    "    padded_x = np.tile(x, (1, num_repeats))[:, :max_len][0]\n",
    "    return padded_x\n",
    "\n",
    "\n",
    "labels = []\n",
    "preds = []\n",
    "\n",
    "for path in tqdm(sampled_asvspoof):\n",
    "    utt_id = os.path.basename(path).split(\".\")[0]\n",
    "    y = label_dict[utt_id]\n",
    "\n",
    "    x, _ = librosa.load(path, sr=16000)\n",
    "    x = torch.Tensor(pad(x, max_len=64000)).unsqueeze(0).to(\"cuda\")\n",
    "\n",
    "    _, out, *_ = model(x)\n",
    "    pred = torch.argmax(out, dim=1).cpu().numpy()[0]\n",
    "\n",
    "    labels.append(y)\n",
    "    preds.append(pred)"
   ]
  },
  {
   "cell_type": "code",
   "execution_count": 9,
   "id": "91b5da1a",
   "metadata": {},
   "outputs": [
    {
     "name": "stdout",
     "output_type": "stream",
     "text": [
      "1238 62 0 100\n",
      "True Negative Rate: 0.9523076923076923\n"
     ]
    }
   ],
   "source": [
    "from sklearn.metrics import confusion_matrix\n",
    "\n",
    "tn, fp, fn, tp = confusion_matrix(labels, preds).ravel()\n",
    "true_negative_rate = tn / (tn + fp)\n",
    "print(tn, fp, fn, tp)\n",
    "print(\"True Negative Rate:\", true_negative_rate)"
   ]
  },
  {
   "cell_type": "code",
   "execution_count": 10,
   "id": "d5c670d5",
   "metadata": {},
   "outputs": [
    {
     "name": "stderr",
     "output_type": "stream",
     "text": [
      "100%|██████████| 1400/1400 [00:07<00:00, 179.42it/s]"
     ]
    },
    {
     "name": "stdout",
     "output_type": "stream",
     "text": [
      "139 1161 0 100\n",
      "True Negative Rate: 0.10692307692307693\n"
     ]
    },
    {
     "name": "stderr",
     "output_type": "stream",
     "text": [
      "\n"
     ]
    }
   ],
   "source": [
    "labels = []\n",
    "preds = []\n",
    "\n",
    "for path in tqdm(recorded_asvspoof):\n",
    "    utt_id = os.path.basename(path).split(\".\")[0]\n",
    "    y = label_dict[utt_id]\n",
    "\n",
    "    x, _ = librosa.load(path, sr=16000)\n",
    "    x = torch.Tensor(pad(x, max_len=64000)).unsqueeze(0).to(\"cuda\")\n",
    "\n",
    "    _, out, *_ = model(x)\n",
    "    pred = torch.argmax(out, dim=1).cpu().numpy()[0]\n",
    "\n",
    "    labels.append(y)\n",
    "    preds.append(pred)\n",
    "\n",
    "tn, fp, fn, tp = confusion_matrix(labels, preds).ravel()\n",
    "true_negative_rate = tn / (tn + fp)\n",
    "print(tn, fp, fn, tp)\n",
    "print(\"True Negative Rate:\", true_negative_rate)"
   ]
  }
 ],
 "metadata": {
  "kernelspec": {
   "display_name": "zt",
   "language": "python",
   "name": "python3"
  },
  "language_info": {
   "codemirror_mode": {
    "name": "ipython",
    "version": 3
   },
   "file_extension": ".py",
   "mimetype": "text/x-python",
   "name": "python",
   "nbconvert_exporter": "python",
   "pygments_lexer": "ipython3",
   "version": "3.9.21"
  }
 },
 "nbformat": 4,
 "nbformat_minor": 5
}
